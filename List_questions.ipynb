{
 "cells": [
  {
   "cell_type": "markdown",
   "id": "df51862f-2013-4579-8f8a-d384a4ca6283",
   "metadata": {},
   "source": [
    "# 1. Find the Largest number in the List"
   ]
  },
  {
   "cell_type": "code",
   "execution_count": 12,
   "id": "58552360-d767-42b8-b3b9-edc1e7f71059",
   "metadata": {},
   "outputs": [],
   "source": [
    "list1 = [100000,1,3,4,5,6,7,8,9,3,4,5,6,7,8,9,33,6,78,9,56,36,9999]"
   ]
  },
  {
   "cell_type": "code",
   "execution_count": 13,
   "id": "84c89782-f4f2-4b68-b44c-2087ad24fe36",
   "metadata": {},
   "outputs": [
    {
     "name": "stdout",
     "output_type": "stream",
     "text": [
      "Largest number is :  100000\n"
     ]
    }
   ],
   "source": [
    "largest = list1[0]\n",
    "for item in list1:\n",
    "    if largest<item:\n",
    "        largest = item\n",
    "print(\"Largest number is : \",largest)        \n",
    "        "
   ]
  },
  {
   "cell_type": "code",
   "execution_count": null,
   "id": "7433a707-e49c-4cef-a1e7-621d69302c7c",
   "metadata": {},
   "outputs": [],
   "source": []
  },
  {
   "cell_type": "markdown",
   "id": "7b885336-2458-4e53-9fd2-437fd087b895",
   "metadata": {},
   "source": [
    "# 2. Filter Even Numbers from a List"
   ]
  },
  {
   "cell_type": "code",
   "execution_count": 15,
   "id": "a902d5e4-6561-4e0d-a939-524f5ef639ea",
   "metadata": {},
   "outputs": [
    {
     "name": "stdout",
     "output_type": "stream",
     "text": [
      "Even list is: [4, 6, 8, 4, 6, 8]\n"
     ]
    }
   ],
   "source": [
    "list1 = [1,3,4,5,6,7,8,9,3,4,5,6,7,8,9]\n",
    "even_list = []\n",
    "for item in list1:\n",
    "    if item%2==0:\n",
    "        even_list.append(item)\n",
    "print(\"Even list is:\",even_list)        "
   ]
  },
  {
   "cell_type": "code",
   "execution_count": null,
   "id": "8679c6a5-e694-4a9f-a62e-923e772144a6",
   "metadata": {},
   "outputs": [],
   "source": []
  },
  {
   "cell_type": "code",
   "execution_count": null,
   "id": "be8c19b6-1c39-46a9-9955-479fdc021b28",
   "metadata": {},
   "outputs": [],
   "source": []
  },
  {
   "cell_type": "markdown",
   "id": "5f6107b5-cc7d-4ee8-91a4-9fa11a55e3a8",
   "metadata": {},
   "source": [
    "# 3. Find out all string values from a List"
   ]
  },
  {
   "cell_type": "code",
   "execution_count": 19,
   "id": "24678ee5-2f4b-4323-b980-68b452a246ac",
   "metadata": {},
   "outputs": [],
   "source": [
    "list1 = [\"python\",2.4,7.8,67,[1,2,3],\"Mysql\",\"this\"]"
   ]
  },
  {
   "cell_type": "code",
   "execution_count": 20,
   "id": "24c2b89b-dc08-4917-970d-ddcae9b7c5fd",
   "metadata": {},
   "outputs": [
    {
     "name": "stdout",
     "output_type": "stream",
     "text": [
      "python\n",
      "Mysql\n",
      "this\n"
     ]
    }
   ],
   "source": [
    "for item in list1:\n",
    "    if type(item) == str:\n",
    "        print(item)\n",
    "        "
   ]
  },
  {
   "cell_type": "markdown",
   "id": "2c16f8f4-5558-4838-a24c-18e74985de31",
   "metadata": {},
   "source": [
    "# 4. Filter Unique Elements from a list"
   ]
  },
  {
   "cell_type": "code",
   "execution_count": 23,
   "id": "79a57858-5891-4e78-b493-a7541eb10dfd",
   "metadata": {},
   "outputs": [
    {
     "name": "stdout",
     "output_type": "stream",
     "text": [
      "[1, 3, 4, 5, 6, 7, 8, 9]\n"
     ]
    }
   ],
   "source": [
    "list1 = [1,3,4,5,6,7,8,9,3,4,5,6,7,8,9]\n",
    "unique_list = []\n",
    "for item in list1:\n",
    "    if item in unique_list:\n",
    "        continue\n",
    "    else:\n",
    "        unique_list.append(item)\n",
    "    \n",
    "print(unique_list)    "
   ]
  },
  {
   "cell_type": "code",
   "execution_count": null,
   "id": "e40a7bf6-d391-40ec-a585-b6a5bf6c39dc",
   "metadata": {},
   "outputs": [],
   "source": []
  },
  {
   "cell_type": "markdown",
   "id": "ba7f31bf-2b41-4ba3-a3f3-3165904084d0",
   "metadata": {},
   "source": [
    "# 5. Flatten a Nested List"
   ]
  },
  {
   "cell_type": "code",
   "execution_count": 29,
   "id": "b7302ed3-a263-4f12-a6e5-5c365000c1e1",
   "metadata": {},
   "outputs": [],
   "source": [
    "list5 = [[9, 2, 4], [4, 44,989], [6, 7, 4567,12]]"
   ]
  },
  {
   "cell_type": "code",
   "execution_count": 30,
   "id": "1ffa6f50-c7ab-4d53-b61b-1155360502f4",
   "metadata": {},
   "outputs": [
    {
     "name": "stdout",
     "output_type": "stream",
     "text": [
      "[9, 2, 4, 4, 44, 989, 6, 7, 4567, 12]\n"
     ]
    }
   ],
   "source": [
    "flatten_list = []\n",
    "for inner_list in list5:\n",
    "    for item in inner_list:\n",
    "        flatten_list.append(item)\n",
    "print(flatten_list)"
   ]
  },
  {
   "cell_type": "code",
   "execution_count": null,
   "id": "c65f3dc9-007f-411c-8289-f1751dd2f12a",
   "metadata": {},
   "outputs": [],
   "source": []
  },
  {
   "cell_type": "code",
   "execution_count": null,
   "id": "9eab88b6-b227-4ab1-897b-5f16128cc296",
   "metadata": {},
   "outputs": [],
   "source": []
  },
  {
   "cell_type": "code",
   "execution_count": null,
   "id": "27eed062-4a00-4dba-a6bc-4da437994eaa",
   "metadata": {},
   "outputs": [],
   "source": []
  },
  {
   "cell_type": "code",
   "execution_count": null,
   "id": "4688ff11-35a7-431c-b4dc-3884d06d8549",
   "metadata": {},
   "outputs": [],
   "source": []
  },
  {
   "cell_type": "code",
   "execution_count": null,
   "id": "35c6a480-51bc-4f0c-936e-b1f3404ae569",
   "metadata": {},
   "outputs": [],
   "source": []
  },
  {
   "cell_type": "code",
   "execution_count": null,
   "id": "f2bcbbb5-3b47-4c3a-a693-ee8c29082d2b",
   "metadata": {},
   "outputs": [],
   "source": []
  },
  {
   "cell_type": "code",
   "execution_count": null,
   "id": "4d5b6e71-29be-401e-8ba4-61d2fe350ef2",
   "metadata": {},
   "outputs": [],
   "source": []
  }
 ],
 "metadata": {
  "kernelspec": {
   "display_name": "Python 3 (ipykernel)",
   "language": "python",
   "name": "python3"
  },
  "language_info": {
   "codemirror_mode": {
    "name": "ipython",
    "version": 3
   },
   "file_extension": ".py",
   "mimetype": "text/x-python",
   "name": "python",
   "nbconvert_exporter": "python",
   "pygments_lexer": "ipython3",
   "version": "3.11.7"
  }
 },
 "nbformat": 4,
 "nbformat_minor": 5
}
